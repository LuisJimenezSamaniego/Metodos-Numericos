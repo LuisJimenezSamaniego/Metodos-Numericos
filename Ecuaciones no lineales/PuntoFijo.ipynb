{
  "cells": [
    {
      "cell_type": "markdown",
      "id": "3154e14b",
      "metadata": {
        "id": "3154e14b"
      },
      "source": [
        "# Método de bisecciónpunto fijo\n",
        "\n",
        "Para este caso usaremos el método de punto fijo para determinar una solución exacta dentro de $10^{-2}$ para la función:\n",
        "$$g(x)=x^3-x-1=0$$\n",
        "en el intervalo $[1,2]$, usando $p_0=1$\n",
        "\n",
        "Primero verificamos que sea una función contínua, lo cual si es al tratarse de un polinomio de grado 3.\n",
        "Ahora buscamos los valores en los extremos del intervalo, es decir:\n",
        "$$g(1)=-1$$\n",
        "$$g(2)=5$$\n",
        "Podemos ver que $g(x)|x∈[1,2]$ no se encuentra en el rango de $[1,2]$, entonces se propone otra expresión para la función:\n",
        "$$g_1(x)=x=\\frac{x^3-1}{2}$$\n",
        "\n",
        "$$g_2(x)=x=\\frac{1}{x^2-2}$$\n",
        "\n",
        "$$g_3(x)=x=\\pm \\sqrt{\\frac{1}{x}+2}$$\n"
      ]
    },
    {
      "cell_type": "code",
      "execution_count": 1,
      "id": "9d5e2287",
      "metadata": {
        "id": "9d5e2287"
      },
      "outputs": [],
      "source": [
        "#Primero importamos las herramientas que podamos ocupar\n",
        "from math import *\n",
        "import numpy as np\n",
        "import matplotlib . pyplot as plt"
      ]
    },
    {
      "cell_type": "code",
      "execution_count": 20,
      "id": "db980446",
      "metadata": {
        "id": "db980446"
      },
      "outputs": [],
      "source": [
        "def funcion11(x):\n",
        "    return x**3 + 4*x**2 - 10.0\n",
        "\n",
        "#Definimos las funciones\n",
        "def funcion1(x):\n",
        "  return (1/x +2)**(1/2)"
      ]
    },
    {
      "cell_type": "code",
      "execution_count": 102,
      "id": "679a51af",
      "metadata": {
        "id": "679a51af"
      },
      "outputs": [],
      "source": [
        "# Ingreso datos de entrada para los diferentes métodos a trabajar\n",
        "a = 1\n",
        "b = 2\n",
        "\n",
        "\n",
        "p00=1 #aproximación inicial\n",
        "TOL=0.0000001 #tolerancia entre los valores para saber cuando se encontró la solución\n",
        "error = 100 #La diferencia entre dos valores consecutivos obtenidos\n",
        "nitmax=100 #número de iteraciones máximas para hallar la solución\n",
        "it=0 #definimos un contador para conocer en que iteración vamos\n",
        "\n",
        "# guarda valores iniciales\n",
        "a0 = a\n",
        "b0 = b\n",
        "\n",
        "#guarda valores iniciales del error y del número de iteraciones\n",
        "tol = 0.000001 #float(input(\"Ingrese el valor de la tolerancia: \"))\n",
        "nmax = 100 #float(input(\"Ingrese el número máximo de iteraciones: \"))\n",
        "\n",
        "niter = 0"
      ]
    },
    {
      "cell_type": "code",
      "source": [
        "funcion1(1.6054)"
      ],
      "metadata": {
        "colab": {
          "base_uri": "https://localhost:8080/"
        },
        "id": "S4bIxNna8BtY",
        "outputId": "f611d2cc-4d1e-48fc-d201-af22536a73d1"
      },
      "id": "S4bIxNna8BtY",
      "execution_count": 45,
      "outputs": [
        {
          "output_type": "execute_result",
          "data": {
            "text/plain": [
              "1.6195362670203912"
            ]
          },
          "metadata": {},
          "execution_count": 45
        }
      ]
    },
    {
      "cell_type": "code",
      "source": [
        "# Método de Punto Fijo\n",
        "p0=p00\n",
        "p1=funcion1(p0)\n",
        "error=abs(p1-p0)\n",
        "print(\"# iter\\t\\t p\\t\\t g(p)\\t\\t error\")\n",
        "print(\"{0} \\t\\t {1:6.4f} \\t {2:6.4f} \\t {3:6.4f}\".format(it, p1, p0, error ))\n",
        "\n",
        "while it<nitmax and error>TOL:\n",
        "  p1=funcion1(p0)\n",
        "  #it=it+1\n",
        "\n",
        "  #print(\"{0} \\t\\t {1:6.4f} \\t {2:6.4f} \\t {3:6.4f}\".format(it, p1, p0, error ))\n",
        "  if abs(p1-p0)>TOL:\n",
        "    p0=funcion1(p0)\n",
        "  else:\n",
        "    break\n",
        "\n",
        "  p0=funcion1(p0)\n",
        "  error=abs(p1-p0)\n",
        "  it+=1\n",
        "  print(\"{0} \\t\\t {1:6.4f} \\t {2:6.4f} \\t {3:6.4f}\".format(it, p1, p0, error ))\n",
        "\n",
        "print(\"La raíz de la función dada en el intervalo es {0:6.7f}\".format(p0))"
      ],
      "metadata": {
        "colab": {
          "base_uri": "https://localhost:8080/"
        },
        "id": "NMb3R__ixmRf",
        "outputId": "9af31027-56ac-4b80-826d-ec31a75603ca"
      },
      "id": "NMb3R__ixmRf",
      "execution_count": 95,
      "outputs": [
        {
          "output_type": "stream",
          "name": "stdout",
          "text": [
            "# iter\t\t p\t\t g(p)\t\t error\n",
            "4 \t\t 1.7321 \t 1.0000 \t 0.7321\n",
            "5 \t\t 1.7321 \t 1.6054 \t 0.1266\n",
            "6 \t\t 1.6195 \t 1.6179 \t 0.0017\n",
            "7 \t\t 1.6181 \t 1.6180 \t 0.0000\n",
            "8 \t\t 1.6180 \t 1.6180 \t 0.0000\n",
            "La raíz de la función dada en el intervalo es 1.6180340\n"
          ]
        }
      ]
    },
    {
      "cell_type": "code",
      "execution_count": 103,
      "id": "6b4c08a0",
      "metadata": {
        "colab": {
          "base_uri": "https://localhost:8080/"
        },
        "id": "6b4c08a0",
        "outputId": "c483827a-c965-4e2b-986e-452bec40e586"
      },
      "outputs": [
        {
          "output_type": "stream",
          "name": "stdout",
          "text": [
            "# iter\t\t a \t\t f(a) \t\t b \t\t f(b) \t\t m \t\t f(m) \t\t error\n",
            "0 \t\t 1.0000 \t -5.0000 \t 2.0000 \t 14.0000 \t 1.5000 \t 2.3750 \t 100.0000\n",
            "1 \t\t 1.000000 \t -5.000000 \t 1.500000 \t 1.632993 \t 1.250000 \t -1.796875 \t 0.500000\n",
            "2 \t\t 1.250000 \t 1.673320 \t 1.500000 \t 1.632993 \t 1.375000 \t 0.162109 \t 0.250000\n",
            "3 \t\t 1.375000 \t 1.651446 \t 1.500000 \t 1.632993 \t 1.437500 \t 1.236084 \t 0.125000\n",
            "4 \t\t 1.437500 \t 1.641844 \t 1.500000 \t 1.632993 \t 1.468750 \t 1.797333 \t 0.062500\n",
            "5 \t\t 1.468750 \t 1.637330 \t 1.500000 \t 1.632993 \t 1.484375 \t 2.084103 \t 0.031250\n",
            "6 \t\t 1.484375 \t 1.635140 \t 1.500000 \t 1.632993 \t 1.492188 \t 2.229034 \t 0.015625\n",
            "7 \t\t 1.492188 \t 1.634062 \t 1.500000 \t 1.632993 \t 1.496094 \t 2.301887 \t 0.007812\n",
            "8 \t\t 1.496094 \t 1.633526 \t 1.500000 \t 1.632993 \t 1.498047 \t 2.338411 \t 0.003906\n",
            "9 \t\t 1.498047 \t 1.633259 \t 1.500000 \t 1.632993 \t 1.499023 \t 2.356698 \t 0.001953\n",
            "10 \t\t 1.499023 \t 1.633126 \t 1.500000 \t 1.632993 \t 1.499512 \t 2.365847 \t 0.000977\n",
            "11 \t\t 1.499512 \t 1.633060 \t 1.500000 \t 1.632993 \t 1.499756 \t 2.370423 \t 0.000488\n",
            "12 \t\t 1.499756 \t 1.633026 \t 1.500000 \t 1.632993 \t 1.499878 \t 2.372711 \t 0.000244\n",
            "13 \t\t 1.499878 \t 1.633010 \t 1.500000 \t 1.632993 \t 1.499939 \t 2.373856 \t 0.000122\n",
            "14 \t\t 1.499939 \t 1.633001 \t 1.500000 \t 1.632993 \t 1.499969 \t 2.374428 \t 0.000061\n",
            "15 \t\t 1.499969 \t 1.632997 \t 1.500000 \t 1.632993 \t 1.499985 \t 2.374714 \t 0.000031\n",
            "16 \t\t 1.499985 \t 1.632995 \t 1.500000 \t 1.632993 \t 1.499992 \t 2.374857 \t 0.000015\n",
            "17 \t\t 1.499992 \t 1.632994 \t 1.500000 \t 1.632993 \t 1.499996 \t 2.374928 \t 0.000008\n",
            "18 \t\t 1.499996 \t 1.632994 \t 1.500000 \t 1.632993 \t 1.499998 \t 2.374964 \t 0.000004\n",
            "19 \t\t 1.499998 \t 1.632993 \t 1.500000 \t 1.632993 \t 1.499999 \t 2.374982 \t 0.000002\n",
            "20 \t\t 1.499999 \t 1.632993 \t 1.500000 \t 1.632993 \t 1.500000 \t 2.374991 \t 0.000001\n",
            "La raíz de la función dada en el intervalo [1.0000,2.0000] es 1.500000\n"
          ]
        }
      ],
      "source": [
        "# evaluo primer valor medio\n",
        "m = a + (b - a)/2\n",
        "\n",
        "#Evaluacion de la función en los puntos a, b y m\n",
        "fa = funcion11(a)\n",
        "fb = funcion11(b)\n",
        "fm = funcion11(m)\n",
        "\n",
        "print(\"# iter\\t\\t a \\t\\t f(a) \\t\\t b \\t\\t f(b) \\t\\t m \\t\\t f(m) \\t\\t error\")\n",
        "print(\"{0} \\t\\t {1:6.4f} \\t {2:6.4f} \\t {3:6.4f} \\t {4:6.4f} \\t {5:6.4f} \\t {6:6.4f} \\t {7:6.4f}\".format(niter, a0, fa, b0, fb, m, fm, error ))\n",
        "\n",
        "# ciclo iterativo\n",
        "while error > tol and niter < nmax:\n",
        "    m = a + (b - a) / 2\n",
        "    if np.sign(fa) == np.sign(fm):\n",
        "        a = m\n",
        "        fa = funcion1(a)\n",
        "    else:\n",
        "        b = m\n",
        "        fb = funcion1(b)\n",
        "\n",
        "    m = a + (b - a)/2\n",
        "    fm = funcion11(m)\n",
        "    error = abs(b - a)\n",
        "    niter += 1\n",
        "    print(\"{0} \\t\\t {1:6.6f} \\t {2:6.6f} \\t {3:6.6f} \\t {4:6.6f} \\t {5:6.6f} \\t {6:6.6f} \\t {7:6.6f}\".format(niter, a, fa, b, fb, m, fm, error ))\n",
        "\n",
        "print(\"La raíz de la función dada en el intervalo [{0:6.4f},{1:6.4f}] es {2:6.6f}\".format(a0,b0,m))"
      ]
    },
    {
      "cell_type": "code",
      "execution_count": null,
      "id": "b59ace03",
      "metadata": {
        "id": "b59ace03"
      },
      "outputs": [],
      "source": []
    }
  ],
  "metadata": {
    "kernelspec": {
      "display_name": "Python 3 (ipykernel)",
      "language": "python",
      "name": "python3"
    },
    "language_info": {
      "codemirror_mode": {
        "name": "ipython",
        "version": 3
      },
      "file_extension": ".py",
      "mimetype": "text/x-python",
      "name": "python",
      "nbconvert_exporter": "python",
      "pygments_lexer": "ipython3",
      "version": "3.7.3"
    },
    "colab": {
      "provenance": []
    }
  },
  "nbformat": 4,
  "nbformat_minor": 5
}